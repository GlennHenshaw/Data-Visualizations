{
 "cells": [
  {
   "cell_type": "code",
   "execution_count": 1,
   "metadata": {},
   "outputs": [],
   "source": [
    "import pandas as pd"
   ]
  },
  {
   "cell_type": "code",
   "execution_count": 2,
   "metadata": {},
   "outputs": [
    {
     "name": "stdout",
     "output_type": "stream",
     "text": [
      "Untitled.ipynb           new_script.js            style.css\r\n",
      "data_clean.csv           reddit-april-fools.html\r\n"
     ]
    }
   ],
   "source": [
    "ls"
   ]
  },
  {
   "cell_type": "code",
   "execution_count": 5,
   "metadata": {},
   "outputs": [],
   "source": [
    "data = pd.read_csv(\"data_clean.csv\")"
   ]
  },
  {
   "cell_type": "code",
   "execution_count": null,
   "metadata": {},
   "outputs": [],
   "source": [
    "intervals = [x for x in range()]"
   ]
  },
  {
   "cell_type": "code",
   "execution_count": 6,
   "metadata": {},
   "outputs": [
    {
     "data": {
      "text/plain": [
       "0           7\n",
       "1           8\n",
       "2          10\n",
       "3          10\n",
       "4          11\n",
       "5          12\n",
       "6          12\n",
       "7          13\n",
       "8          13\n",
       "9          14\n",
       "10         14\n",
       "11         15\n",
       "12         15\n",
       "13         15\n",
       "14         15\n",
       "15         16\n",
       "16         16\n",
       "17         16\n",
       "18         16\n",
       "19         16\n",
       "20         16\n",
       "21         16\n",
       "22         17\n",
       "23         17\n",
       "24         17\n",
       "25         17\n",
       "26         17\n",
       "27         17\n",
       "28         18\n",
       "29         18\n",
       "         ... \n",
       "12853    1478\n",
       "12854    1478\n",
       "12855    1478\n",
       "12856    1478\n",
       "12857    1478\n",
       "12858    1478\n",
       "12859    1479\n",
       "12860    1480\n",
       "12861    1480\n",
       "12862    1480\n",
       "12863    1481\n",
       "12864    1481\n",
       "12865    1481\n",
       "12866    1481\n",
       "12867    1481\n",
       "12868    1482\n",
       "12869    1482\n",
       "12870    1482\n",
       "12871    1482\n",
       "12872    1483\n",
       "12873    1483\n",
       "12874       1\n",
       "12875    1484\n",
       "12876    1485\n",
       "12877    1485\n",
       "12878    1485\n",
       "12879    1485\n",
       "12880       1\n",
       "12881    1486\n",
       "12882    1486\n",
       "Name: time, Length: 12883, dtype: int64"
      ]
     },
     "execution_count": 6,
     "metadata": {},
     "output_type": "execute_result"
    }
   ],
   "source": [
    "data['time'].cut(x=[0,60,120,180,240,], right=False)"
   ]
  },
  {
   "cell_type": "code",
   "execution_count": null,
   "metadata": {},
   "outputs": [],
   "source": []
  }
 ],
 "metadata": {
  "kernelspec": {
   "display_name": "Python 3",
   "language": "python",
   "name": "python3"
  },
  "language_info": {
   "codemirror_mode": {
    "name": "ipython",
    "version": 3
   },
   "file_extension": ".py",
   "mimetype": "text/x-python",
   "name": "python",
   "nbconvert_exporter": "python",
   "pygments_lexer": "ipython3",
   "version": "3.7.1"
  }
 },
 "nbformat": 4,
 "nbformat_minor": 2
}
